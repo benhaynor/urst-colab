{
  "cells": [
    {
      "cell_type": "markdown",
      "metadata": {
        "id": "view-in-github",
        "colab_type": "text"
      },
      "source": [
        "<a href=\"https://colab.research.google.com/github/benhaynor/urst-colab/blob/main/Interactive_URST.ipynb\" target=\"_parent\"><img src=\"https://colab.research.google.com/assets/colab-badge.svg\" alt=\"Open In Colab\"/></a>"
      ]
    },
    {
      "cell_type": "code",
      "execution_count": null,
      "metadata": {
        "cellView": "form",
        "id": "M-fvE_0dgeG0"
      },
      "outputs": [],
      "source": [
        "# @title Install dependencies and download models, libraries\n",
        "#@markdown Google drive access is required in order to download models and examples.\n",
        "!pip install \"pillow<7\"\n",
        "!pip install tqdm\n",
        "!pip install torchfile\n",
        "!pip install -q condacolab\n",
        "!pip install torch\n",
        "!pip install torchvision\n",
        "#!pip install torch==1.1.0 torchvision==0.3.0 -f https://download.pytorch.org/whl/torch_stable.html\n",
        "#!pip install -q torch==0.3.0 torchvision\n",
        "!pip install tensorboardX\n",
        "!git clone https://github.com/czczup/URST.git\n",
        "\n",
        "\n",
        "# Install the PyDrive wrapper & import libraries.\n",
        "from pydrive.auth import GoogleAuth\n",
        "from pydrive.drive import GoogleDrive\n",
        "from google.colab import auth\n",
        "from oauth2client.client import GoogleCredentials\n",
        "\n",
        "# Authenticate and create the PyDrive client.\n",
        "auth.authenticate_user()\n",
        "gauth = GoogleAuth()\n",
        "gauth.credentials = GoogleCredentials.get_application_default()\n",
        "drive_connection = GoogleDrive(gauth)\n",
        "\n",
        "# Download models and examples\n",
        "for file_id in ['1TFWHb-PQ57qYCaNm2lKUxtxouq3PJO0i', '1f-G5RsYMUqJlTgNBV7_MfRP_JIb6Oz2b']:\n",
        "  downloaded = drive_connection.CreateFile({'id':file_id})\n",
        "  downloaded.FetchMetadata(fetch_all=True)\n",
        "  downloaded.GetContentFile(downloaded.metadata['title'])\n",
        "\n",
        "!unzip examples.zip\n",
        "!unzip URST-models.zip\n",
        "\n",
        "# Copy models to where they are inspected\n",
        "import os\n",
        "import shutil\n",
        "for d in os.scandir('URST-models'):\n",
        "  os.popen('cp -R {}/* URST/{}'.format(d.path, d.name))\n"
      ]
    },
    {
      "cell_type": "code",
      "execution_count": null,
      "metadata": {
        "cellView": "form",
        "colab": {
          "background_save": true
        },
        "id": "uiZPuDX4ejRb"
      },
      "outputs": [],
      "source": [
        "# @title Run style transfer\n",
        "# @markdown Choose style, content, and algorithm from dropdown\n",
        "from IPython.display import Image\n",
        "from IPython.display import display\n",
        "style = 'picasso_seated_nude_hr.jpg' #@param ['seated-nude.jpg', 'mondrian.jpg', 'contrast_of_forms.jpg', 'still_life_with_skull.jpg', 'la_muse.jpg', 'mosaic_1024.png', 'en_campo_gris.jpg', 'mosaic.png', 'candy.jpg', 'asheville.jpg', '1-lava-flow-5-rebex-nie.jpg', 'Robert_Delauna_Portrait.jpg', 'green_line.jpg', 'V1.png', 'cuphead.png', 'line.jpg', 'picasso_seated_nude_hr.jpg', 'line2.png', 'picasso_self_portrait.jpg', 'composition.jpg', '81575.jpg', 'composition-x-1939.jpg']\n",
        "content = 'pexels-margerretta-548154.jpg' #@param ['pexels-ryutaro-tsukata-6249822.jpg', 'pexels-julia-volk-5273641.jpg', 'pexels-maria-orlova-4915599.jpg', 'pexels-rachel-claire-4857738.jpg', 'pexels-mateusz-sałaciak-4275885.jpg', 'pexels-margerretta-548154.jpg', 'pexels-paulo-marcelo-martins-2412603.jpg', 'pexels-andrea-piacquadio-3830880.jpg', 'pexels-matt-hardy-2309272.jpg', 'pexels-ekrulila-2127784.jpg', 'pexels-xuan-hoa-le-61381.jpg', 'pexels-alisha-lubben-2305747.jpg']\n",
        "algorithm = 'Zhang2017MultiStyle' #@param ['Huang2017AdaIN', 'Li2018Learning', 'Zhang2017MultiStyle', 'Li2017Universal']\n",
        "content_image = Image('examples/content/{}'.format(content))\n",
        "style_image = Image('examples/style/{}'.format(style))\n",
        "print(\"Style:\")\n",
        "display(style_image)\n",
        "\n",
        "print(\"Content:\")\n",
        "display(content_image)\n",
        "\n",
        "def run_style_transfer(s, c, alg):\n",
        "  os.popen('mkdir -p output')\n",
        "  output_f = '/content/output/{}_{}_{}'.format(alg, s.split('.')[0], c.split('.')[0])\n",
        "  style_path = '/content/examples/style/{}'.format(s)\n",
        "  content_path = '/content/examples/content/{}'.format(c)\n",
        "  command = \"cd /content/URST/{} && CUDA_VISIBLE_DEVICES=0 python test.py --outf '{}' --style '{}' --content '{}' --URST\".format(alg, output_f, style_path, content_path)\n",
        "  !$command\n",
        "  final_output_file = '{}/ours-patch1000-padding32.jpg'.format(output_f)\n",
        "  return Image(final_output_file)\n",
        "transfer = run_style_transfer(style, content, algorithm)\n",
        "display(transfer)"
      ]
    }
  ],
  "metadata": {
    "accelerator": "GPU",
    "colab": {
      "background_execution": "on",
      "collapsed_sections": [],
      "name": "Interactive URST.ipynb",
      "provenance": [],
      "authorship_tag": "ABX9TyM/baGQC2WpdWnPhR+AoGTf",
      "include_colab_link": true
    },
    "kernelspec": {
      "display_name": "Python 3",
      "name": "python3"
    },
    "language_info": {
      "name": "python"
    }
  },
  "nbformat": 4,
  "nbformat_minor": 0
}